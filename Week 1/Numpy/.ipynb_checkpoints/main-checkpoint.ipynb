{
 "cells": [
  {
   "cell_type": "markdown",
   "metadata": {},
   "source": [
    "# Introduction to NumPy\n",
    "\n",
    "\n",
    "#### 1. Import NumPy under the name np."
   ]
  },
  {
   "cell_type": "code",
   "execution_count": 1,
   "metadata": {},
   "outputs": [],
   "source": [
    "# your code here\n",
    "import numpy as np"
   ]
  },
  {
   "cell_type": "markdown",
   "metadata": {},
   "source": [
    "#### 2. Print your NumPy version."
   ]
  },
  {
   "cell_type": "code",
   "execution_count": 2,
   "metadata": {},
   "outputs": [
    {
     "name": "stdout",
     "output_type": "stream",
     "text": [
      "1.17.3\n"
     ]
    }
   ],
   "source": [
    "# your code here\n",
    "print(np.__version__)"
   ]
  },
  {
   "cell_type": "markdown",
   "metadata": {},
   "source": [
    "#### 3. Generate a 3x2x5 3-dimensional array with random values. Assign the array to variable *a*.\n",
    "**Challenge**: there are at least three easy ways that use numpy to generate random arrays. How many ways can you find?"
   ]
  },
  {
   "cell_type": "code",
   "execution_count": 3,
   "metadata": {},
   "outputs": [
    {
     "data": {
      "text/plain": [
       "array([[[0.71294704, 0.93917171, 0.4531081 , 0.96296274, 0.69251973],\n",
       "        [0.3515631 , 0.73283509, 0.19515568, 0.59321896, 0.96783114]],\n",
       "\n",
       "       [[0.85329782, 0.8337475 , 0.19390166, 0.80050434, 0.86461794],\n",
       "        [0.88738891, 0.33186473, 0.66858347, 0.55180597, 0.67418742]],\n",
       "\n",
       "       [[0.36889948, 0.41780478, 0.10098157, 0.60789701, 0.61800455],\n",
       "        [0.56012519, 0.9818551 , 0.94445665, 0.75410649, 0.30404606]]])"
      ]
     },
     "execution_count": 3,
     "metadata": {},
     "output_type": "execute_result"
    }
   ],
   "source": [
    "# Method 1\n",
    "a = np.random.rand(3, 2, 5)\n",
    "a"
   ]
  },
  {
   "cell_type": "code",
   "execution_count": 4,
   "metadata": {},
   "outputs": [
    {
     "data": {
      "text/plain": [
       "array([[[ 0.51359892, -0.36311498, -0.81258837, -0.34942893,\n",
       "         -0.17357349],\n",
       "        [ 0.11808336,  1.20439303, -0.95584338,  0.24853039,\n",
       "         -0.57811189]],\n",
       "\n",
       "       [[-0.39771197,  0.61688797,  0.836094  , -0.1240713 ,\n",
       "          0.2199106 ],\n",
       "        [ 0.36986598, -0.62165945,  0.7416554 , -0.41964336,\n",
       "          0.59168759]],\n",
       "\n",
       "       [[-0.36773857,  0.22841043,  0.48566161,  1.20520155,\n",
       "          1.53516818],\n",
       "        [ 0.05586111, -0.28591434, -0.60775284, -2.16565222,\n",
       "          1.11435655]]])"
      ]
     },
     "execution_count": 4,
     "metadata": {},
     "output_type": "execute_result"
    }
   ],
   "source": [
    "# Method 2\n",
    "a = np.random.randn(3, 2, 5)\n",
    "a"
   ]
  },
  {
   "cell_type": "code",
   "execution_count": 7,
   "metadata": {},
   "outputs": [],
   "source": [
    "# Method 3\n",
    "a = np.random.randint(10, size=(3, 2, 5))"
   ]
  },
  {
   "cell_type": "markdown",
   "metadata": {},
   "source": [
    "#### 4. Print *a*.\n"
   ]
  },
  {
   "cell_type": "code",
   "execution_count": 8,
   "metadata": {},
   "outputs": [
    {
     "data": {
      "text/plain": [
       "array([[[1, 1, 4, 5, 7],\n",
       "        [3, 6, 2, 8, 0]],\n",
       "\n",
       "       [[8, 4, 3, 6, 0],\n",
       "        [8, 5, 1, 3, 9]],\n",
       "\n",
       "       [[1, 8, 4, 0, 7],\n",
       "        [9, 6, 8, 0, 1]]])"
      ]
     },
     "execution_count": 8,
     "metadata": {},
     "output_type": "execute_result"
    }
   ],
   "source": [
    "# your code here\n",
    "a"
   ]
  },
  {
   "cell_type": "markdown",
   "metadata": {},
   "source": [
    "#### 5. Create a 5x2x3 3-dimensional array with all values equaling 1. Assign the array to variable *b*."
   ]
  },
  {
   "cell_type": "code",
   "execution_count": 10,
   "metadata": {},
   "outputs": [],
   "source": [
    "# your code here\n",
    "b = np.ones((5, 2, 3))"
   ]
  },
  {
   "cell_type": "markdown",
   "metadata": {},
   "source": [
    "#### 6. Print *b*.\n"
   ]
  },
  {
   "cell_type": "code",
   "execution_count": 11,
   "metadata": {},
   "outputs": [
    {
     "data": {
      "text/plain": [
       "array([[[1., 1., 1.],\n",
       "        [1., 1., 1.]],\n",
       "\n",
       "       [[1., 1., 1.],\n",
       "        [1., 1., 1.]],\n",
       "\n",
       "       [[1., 1., 1.],\n",
       "        [1., 1., 1.]],\n",
       "\n",
       "       [[1., 1., 1.],\n",
       "        [1., 1., 1.]],\n",
       "\n",
       "       [[1., 1., 1.],\n",
       "        [1., 1., 1.]]])"
      ]
     },
     "execution_count": 11,
     "metadata": {},
     "output_type": "execute_result"
    }
   ],
   "source": [
    "# your code here\n",
    "b"
   ]
  },
  {
   "cell_type": "markdown",
   "metadata": {},
   "source": [
    "#### 7. Do *a* and *b* have the same size? How do you prove that in Python code?"
   ]
  },
  {
   "cell_type": "code",
   "execution_count": 12,
   "metadata": {},
   "outputs": [
    {
     "data": {
      "text/plain": [
       "False"
      ]
     },
     "execution_count": 12,
     "metadata": {},
     "output_type": "execute_result"
    }
   ],
   "source": [
    "# your code here\n",
    "a.shape == b.shape"
   ]
  },
  {
   "cell_type": "markdown",
   "metadata": {},
   "source": [
    "#### 8. Are you able to add *a* and *b*? Why or why not?\n"
   ]
  },
  {
   "cell_type": "code",
   "execution_count": 21,
   "metadata": {},
   "outputs": [],
   "source": [
    "# your answer here\n",
    "# no, they have different shapes"
   ]
  },
  {
   "cell_type": "markdown",
   "metadata": {},
   "source": [
    "#### 9. Transpose *b* so that it has the same structure of *a* (i.e. become a 2x3x5 array). Assign the transposed array to variable *c*."
   ]
  },
  {
   "cell_type": "code",
   "execution_count": 13,
   "metadata": {},
   "outputs": [
    {
     "data": {
      "text/plain": [
       "array([[[1., 1., 1., 1., 1.],\n",
       "        [1., 1., 1., 1., 1.]],\n",
       "\n",
       "       [[1., 1., 1., 1., 1.],\n",
       "        [1., 1., 1., 1., 1.]],\n",
       "\n",
       "       [[1., 1., 1., 1., 1.],\n",
       "        [1., 1., 1., 1., 1.]]])"
      ]
     },
     "execution_count": 13,
     "metadata": {},
     "output_type": "execute_result"
    }
   ],
   "source": [
    "# your code here\n",
    "c = b.T\n",
    "c"
   ]
  },
  {
   "cell_type": "markdown",
   "metadata": {},
   "source": [
    "#### 10. Try to add *a* and *c*. Now it should work. Assign the sum to variable *d*. But why does it work now?"
   ]
  },
  {
   "cell_type": "code",
   "execution_count": 14,
   "metadata": {},
   "outputs": [],
   "source": [
    "# your code/answer here\n",
    "d = a + c\n",
    "# arrays a and c have the same shape"
   ]
  },
  {
   "cell_type": "markdown",
   "metadata": {},
   "source": [
    "#### 11. Print *a* and *d*. Notice the difference and relation of the two array in terms of the values? Explain."
   ]
  },
  {
   "cell_type": "code",
   "execution_count": 15,
   "metadata": {},
   "outputs": [
    {
     "name": "stdout",
     "output_type": "stream",
     "text": [
      "[[[1 1 4 5 7]\n",
      "  [3 6 2 8 0]]\n",
      "\n",
      " [[8 4 3 6 0]\n",
      "  [8 5 1 3 9]]\n",
      "\n",
      " [[1 8 4 0 7]\n",
      "  [9 6 8 0 1]]]\n",
      "[[[ 2.  2.  5.  6.  8.]\n",
      "  [ 4.  7.  3.  9.  1.]]\n",
      "\n",
      " [[ 9.  5.  4.  7.  1.]\n",
      "  [ 9.  6.  2.  4. 10.]]\n",
      "\n",
      " [[ 2.  9.  5.  1.  8.]\n",
      "  [10.  7.  9.  1.  2.]]]\n"
     ]
    }
   ],
   "source": [
    "# your code/answer here\n",
    "print(a)\n",
    "print(d)\n",
    "# the vaues in array a are integers; the values in array b are floats"
   ]
  },
  {
   "cell_type": "markdown",
   "metadata": {},
   "source": [
    "#### 12. Multiply *a* and *c*. Assign the result to *e*."
   ]
  },
  {
   "cell_type": "code",
   "execution_count": 16,
   "metadata": {},
   "outputs": [],
   "source": [
    "# your code here\n",
    "e = a * c"
   ]
  },
  {
   "cell_type": "markdown",
   "metadata": {},
   "source": [
    "#### 13. Does *e* equal to *a*? Why or why not?\n"
   ]
  },
  {
   "cell_type": "code",
   "execution_count": 18,
   "metadata": {},
   "outputs": [
    {
     "data": {
      "text/plain": [
       "array([[[ True,  True,  True,  True,  True],\n",
       "        [ True,  True,  True,  True,  True]],\n",
       "\n",
       "       [[ True,  True,  True,  True,  True],\n",
       "        [ True,  True,  True,  True,  True]],\n",
       "\n",
       "       [[ True,  True,  True,  True,  True],\n",
       "        [ True,  True,  True,  True,  True]]])"
      ]
     },
     "execution_count": 18,
     "metadata": {},
     "output_type": "execute_result"
    }
   ],
   "source": [
    "# your code/answer here\n",
    "e == a\n",
    "# they are equal because python implicitly converts int to float before comparing\n",
    "# also the multiplication a * c is performed element-wise"
   ]
  },
  {
   "cell_type": "markdown",
   "metadata": {},
   "source": [
    "#### 14. Identify the max, min, and mean values in *d*. Assign those values to variables *d_max*, *d_min* and *d_mean*."
   ]
  },
  {
   "cell_type": "code",
   "execution_count": 19,
   "metadata": {},
   "outputs": [],
   "source": [
    "# your code here\n",
    "d_max = np.max(d)\n",
    "d_min = np.min(d)\n",
    "d_mean = np.mean(d)"
   ]
  },
  {
   "cell_type": "markdown",
   "metadata": {},
   "source": [
    "#### 15. Now we want to label the values in *d*. First create an empty array *f* with the same shape (i.e. 2x3x5) as *d* using `np.empty`.\n"
   ]
  },
  {
   "cell_type": "code",
   "execution_count": 20,
   "metadata": {},
   "outputs": [],
   "source": [
    "# your code here\n",
    "f = np.empty(d.shape)"
   ]
  },
  {
   "cell_type": "markdown",
   "metadata": {},
   "source": [
    "#### 16. Populate the values in *f*. \n",
    "\n",
    "For each value in *d*, if it's larger than *d_min* but smaller than *d_mean*, assign 25 to the corresponding value in *f*. If a value in *d* is larger than *d_mean* but smaller than *d_max*, assign 75 to the corresponding value in *f*. If a value equals to *d_mean*, assign 50 to the corresponding value in *f*. Assign 0 to the corresponding value(s) in *f* for *d_min* in *d*. Assign 100 to the corresponding value(s) in *f* for *d_max* in *d*. In the end, f should have only the following values: 0, 25, 50, 75, and 100.\n",
    "\n",
    "**Note**: you don't have to use Numpy in this question."
   ]
  },
  {
   "cell_type": "code",
   "execution_count": 21,
   "metadata": {
    "scrolled": false
   },
   "outputs": [],
   "source": [
    "# your code here\n",
    "d_flat = d.flatten()\n",
    "f_flat = f.flatten()\n",
    "for idx, val in enumerate(d_flat):\n",
    "    if val > d_min and val < d_mean:\n",
    "        f_flat[idx] = 25\n",
    "    elif val > d_mean and val < d_max:\n",
    "        f_flat[idx] = 75\n",
    "    elif val == d_mean:\n",
    "        f_flat[idx] = 50\n",
    "    elif val == d_min:\n",
    "        f_flat[idx] = 0\n",
    "    elif val == d_max:\n",
    "        f_flat[idx] = 100\n",
    "\n",
    "f = np.reshape(f_flat, f.shape)"
   ]
  },
  {
   "cell_type": "markdown",
   "metadata": {},
   "source": [
    "#### 17. Print *d* and *f*. Do you have your expected *f*?\n",
    "For instance, if your *d* is:\n",
    "```python\n",
    "[[[1.85836099, 1.67064465, 1.62576044, 1.40243961, 1.88454931],\n",
    "  [1.75354326, 1.69403643, 1.36729252, 1.61415071, 1.12104981]],\n",
    " \n",
    " [[1.72201435, 1.1862918 , 1.87078449, 1.7726778 , 1.88180042],\n",
    "  [1.44747908, 1.31673383, 1.02000951, 1.52218947, 1.97066381]],\n",
    " \n",
    " [[1.79129243, 1.74983003, 1.96028037, 1.85166831, 1.65450881],\n",
    "  [1.18068344, 1.9587381 , 1.00656599, 1.93402165, 1.73514584]]]\n",
    "```\n",
    "Your *f* should be:\n",
    "```python\n",
    "[[[ 75.,  75.,  75.,  25.,  75.],\n",
    "  [ 75.,  75.,  25.,  25.,  25.]],\n",
    " \n",
    " [[ 75.,  25.,  75.,  75.,  75.],\n",
    "  [ 25.,  25.,  25.,  25., 100.]],\n",
    "\n",
    " [[ 75.,  75.,  75.,  75.,  75.],\n",
    "  [ 25.,  75.,   0.,  75.,  75.]]]\n",
    "```"
   ]
  },
  {
   "cell_type": "code",
   "execution_count": 22,
   "metadata": {},
   "outputs": [
    {
     "name": "stdout",
     "output_type": "stream",
     "text": [
      "[[[ 2.  2.  5.  6.  8.]\n",
      "  [ 4.  7.  3.  9.  1.]]\n",
      "\n",
      " [[ 9.  5.  4.  7.  1.]\n",
      "  [ 9.  6.  2.  4. 10.]]\n",
      "\n",
      " [[ 2.  9.  5.  1.  8.]\n",
      "  [10.  7.  9.  1.  2.]]]\n",
      "[[[ 25.  25.  25.  75.  75.]\n",
      "  [ 25.  75.  25.  75.   0.]]\n",
      "\n",
      " [[ 75.  25.  25.  75.   0.]\n",
      "  [ 75.  75.  25.  25. 100.]]\n",
      "\n",
      " [[ 25.  75.  25.   0.  75.]\n",
      "  [100.  75.  75.   0.  25.]]]\n"
     ]
    }
   ],
   "source": [
    "# your code here\n",
    "print(d)\n",
    "print(f)"
   ]
  },
  {
   "cell_type": "markdown",
   "metadata": {},
   "source": [
    "#### 18. Bonus question: instead of using numbers (i.e. 0, 25, 50, 75, and 100), use string values  (\"A\", \"B\", \"C\", \"D\", and \"E\") to label the array elements. For the example above, the expected result is:\n",
    "\n",
    "```python\n",
    "[[[ 'D',  'D',  'D',  'B',  'D'],\n",
    "  [ 'D',  'D',  'B',  'B',  'B']],\n",
    " \n",
    " [[ 'D',  'B',  'D',  'D',  'D'],\n",
    "  [ 'B',  'B',  'B',  'B',  'E']],\n",
    "\n",
    " [[ 'D',  'D',  'D',  'D',  'D'],\n",
    "  [ 'B',  'D',   'A',  'D', 'D']]]\n",
    "```\n",
    "**Note**: you don't have to use Numpy in this question."
   ]
  },
  {
   "cell_type": "code",
   "execution_count": 23,
   "metadata": {},
   "outputs": [
    {
     "data": {
      "text/plain": [
       "array([[['B', 'B', 'B', 'D', 'D'],\n",
       "        ['B', 'D', 'B', 'D', 'A']],\n",
       "\n",
       "       [['D', 'B', 'B', 'D', 'A'],\n",
       "        ['D', 'D', 'B', 'B', 'E']],\n",
       "\n",
       "       [['B', 'D', 'B', 'A', 'D'],\n",
       "        ['E', 'D', 'D', 'A', 'B']]], dtype=object)"
      ]
     },
     "execution_count": 23,
     "metadata": {},
     "output_type": "execute_result"
    }
   ],
   "source": [
    "# your code here\n",
    "g = np.empty(f.shape, dtype='object')\n",
    "g_flat = g.flatten()\n",
    "\n",
    "for idx, val in enumerate(f_flat):\n",
    "    if val == 0:\n",
    "        g_flat[idx] = 'A'\n",
    "    elif val == 25:\n",
    "        g_flat[idx] = 'B'\n",
    "    elif val == 50:\n",
    "        g_flat[idx] = 'C'\n",
    "    elif val == 75:\n",
    "        g_flat[idx] = 'D'\n",
    "    elif val == 100:\n",
    "        g_flat[idx] = 'E'\n",
    "        \n",
    "np.reshape(g_flat, g.shape)"
   ]
  }
 ],
 "metadata": {
  "kernelspec": {
   "display_name": "Python 3",
   "language": "python",
   "name": "python3"
  },
  "language_info": {
   "codemirror_mode": {
    "name": "ipython",
    "version": 3
   },
   "file_extension": ".py",
   "mimetype": "text/x-python",
   "name": "python",
   "nbconvert_exporter": "python",
   "pygments_lexer": "ipython3",
   "version": "3.7.5"
  }
 },
 "nbformat": 4,
 "nbformat_minor": 2
}
