{
 "cells": [
  {
   "cell_type": "code",
   "execution_count": 1,
   "metadata": {
    "ExecuteTime": {
     "end_time": "2020-01-31T19:22:06.509554Z",
     "start_time": "2020-01-31T19:22:04.859484Z"
    }
   },
   "outputs": [],
   "source": [
    "import pandas as pd\n",
    "import numpy as np\n",
    "import matplotlib.pyplot as plt\n",
    "import seaborn as sns\n",
    "from sklearn.decomposition import PCA\n",
    "from sklearn.cluster import DBSCAN, KMeans\n",
    "from sklearn.preprocessing import StandardScaler"
   ]
  },
  {
   "cell_type": "code",
   "execution_count": 2,
   "metadata": {
    "ExecuteTime": {
     "end_time": "2020-01-31T19:22:06.568884Z",
     "start_time": "2020-01-31T19:22:06.511019Z"
    }
   },
   "outputs": [],
   "source": [
    "data = pd.read_csv('credit_scoring_sample.csv')"
   ]
  },
  {
   "cell_type": "code",
   "execution_count": 3,
   "metadata": {
    "ExecuteTime": {
     "end_time": "2020-01-31T19:22:06.575260Z",
     "start_time": "2020-01-31T19:22:06.570552Z"
    }
   },
   "outputs": [
    {
     "data": {
      "text/plain": [
       "(45063, 8)"
      ]
     },
     "execution_count": 3,
     "metadata": {},
     "output_type": "execute_result"
    }
   ],
   "source": [
    "data.shape"
   ]
  },
  {
   "cell_type": "code",
   "execution_count": 4,
   "metadata": {
    "ExecuteTime": {
     "end_time": "2020-01-31T19:22:06.593211Z",
     "start_time": "2020-01-31T19:22:06.577497Z"
    }
   },
   "outputs": [
    {
     "data": {
      "text/html": [
       "<div>\n",
       "<style scoped>\n",
       "    .dataframe tbody tr th:only-of-type {\n",
       "        vertical-align: middle;\n",
       "    }\n",
       "\n",
       "    .dataframe tbody tr th {\n",
       "        vertical-align: top;\n",
       "    }\n",
       "\n",
       "    .dataframe thead th {\n",
       "        text-align: right;\n",
       "    }\n",
       "</style>\n",
       "<table border=\"1\" class=\"dataframe\">\n",
       "  <thead>\n",
       "    <tr style=\"text-align: right;\">\n",
       "      <th></th>\n",
       "      <th>SeriousDlqin2yrs</th>\n",
       "      <th>age</th>\n",
       "      <th>NumberOfTime30-59DaysPastDueNotWorse</th>\n",
       "      <th>DebtRatio</th>\n",
       "      <th>NumberOfTimes90DaysLate</th>\n",
       "      <th>NumberOfTime60-89DaysPastDueNotWorse</th>\n",
       "      <th>MonthlyIncome</th>\n",
       "      <th>NumberOfDependents</th>\n",
       "    </tr>\n",
       "  </thead>\n",
       "  <tbody>\n",
       "    <tr>\n",
       "      <th>0</th>\n",
       "      <td>0</td>\n",
       "      <td>64</td>\n",
       "      <td>0</td>\n",
       "      <td>0.249908</td>\n",
       "      <td>0</td>\n",
       "      <td>0</td>\n",
       "      <td>8158.0</td>\n",
       "      <td>0.0</td>\n",
       "    </tr>\n",
       "    <tr>\n",
       "      <th>1</th>\n",
       "      <td>0</td>\n",
       "      <td>58</td>\n",
       "      <td>0</td>\n",
       "      <td>3870.000000</td>\n",
       "      <td>0</td>\n",
       "      <td>0</td>\n",
       "      <td>NaN</td>\n",
       "      <td>0.0</td>\n",
       "    </tr>\n",
       "    <tr>\n",
       "      <th>2</th>\n",
       "      <td>0</td>\n",
       "      <td>41</td>\n",
       "      <td>0</td>\n",
       "      <td>0.456127</td>\n",
       "      <td>0</td>\n",
       "      <td>0</td>\n",
       "      <td>6666.0</td>\n",
       "      <td>0.0</td>\n",
       "    </tr>\n",
       "    <tr>\n",
       "      <th>3</th>\n",
       "      <td>0</td>\n",
       "      <td>43</td>\n",
       "      <td>0</td>\n",
       "      <td>0.000190</td>\n",
       "      <td>0</td>\n",
       "      <td>0</td>\n",
       "      <td>10500.0</td>\n",
       "      <td>2.0</td>\n",
       "    </tr>\n",
       "    <tr>\n",
       "      <th>4</th>\n",
       "      <td>1</td>\n",
       "      <td>49</td>\n",
       "      <td>0</td>\n",
       "      <td>0.271820</td>\n",
       "      <td>0</td>\n",
       "      <td>0</td>\n",
       "      <td>400.0</td>\n",
       "      <td>0.0</td>\n",
       "    </tr>\n",
       "  </tbody>\n",
       "</table>\n",
       "</div>"
      ],
      "text/plain": [
       "   SeriousDlqin2yrs  age  NumberOfTime30-59DaysPastDueNotWorse    DebtRatio  \\\n",
       "0                 0   64                                     0     0.249908   \n",
       "1                 0   58                                     0  3870.000000   \n",
       "2                 0   41                                     0     0.456127   \n",
       "3                 0   43                                     0     0.000190   \n",
       "4                 1   49                                     0     0.271820   \n",
       "\n",
       "   NumberOfTimes90DaysLate  NumberOfTime60-89DaysPastDueNotWorse  \\\n",
       "0                        0                                     0   \n",
       "1                        0                                     0   \n",
       "2                        0                                     0   \n",
       "3                        0                                     0   \n",
       "4                        0                                     0   \n",
       "\n",
       "   MonthlyIncome  NumberOfDependents  \n",
       "0         8158.0                 0.0  \n",
       "1            NaN                 0.0  \n",
       "2         6666.0                 0.0  \n",
       "3        10500.0                 2.0  \n",
       "4          400.0                 0.0  "
      ]
     },
     "execution_count": 4,
     "metadata": {},
     "output_type": "execute_result"
    }
   ],
   "source": [
    "data.head()"
   ]
  },
  {
   "cell_type": "code",
   "execution_count": 5,
   "metadata": {
    "ExecuteTime": {
     "end_time": "2020-01-31T19:22:06.611189Z",
     "start_time": "2020-01-31T19:22:06.595212Z"
    }
   },
   "outputs": [
    {
     "name": "stdout",
     "output_type": "stream",
     "text": [
      "<class 'pandas.core.frame.DataFrame'>\n",
      "RangeIndex: 45063 entries, 0 to 45062\n",
      "Data columns (total 8 columns):\n",
      "SeriousDlqin2yrs                        45063 non-null int64\n",
      "age                                     45063 non-null int64\n",
      "NumberOfTime30-59DaysPastDueNotWorse    45063 non-null int64\n",
      "DebtRatio                               45063 non-null float64\n",
      "NumberOfTimes90DaysLate                 45063 non-null int64\n",
      "NumberOfTime60-89DaysPastDueNotWorse    45063 non-null int64\n",
      "MonthlyIncome                           36420 non-null float64\n",
      "NumberOfDependents                      43946 non-null float64\n",
      "dtypes: float64(3), int64(5)\n",
      "memory usage: 2.8 MB\n"
     ]
    }
   ],
   "source": [
    "data.info()"
   ]
  },
  {
   "cell_type": "code",
   "execution_count": 6,
   "metadata": {
    "ExecuteTime": {
     "end_time": "2020-01-31T19:22:06.660227Z",
     "start_time": "2020-01-31T19:22:06.612633Z"
    }
   },
   "outputs": [
    {
     "data": {
      "text/html": [
       "<div>\n",
       "<style scoped>\n",
       "    .dataframe tbody tr th:only-of-type {\n",
       "        vertical-align: middle;\n",
       "    }\n",
       "\n",
       "    .dataframe tbody tr th {\n",
       "        vertical-align: top;\n",
       "    }\n",
       "\n",
       "    .dataframe thead th {\n",
       "        text-align: right;\n",
       "    }\n",
       "</style>\n",
       "<table border=\"1\" class=\"dataframe\">\n",
       "  <thead>\n",
       "    <tr style=\"text-align: right;\">\n",
       "      <th></th>\n",
       "      <th>SeriousDlqin2yrs</th>\n",
       "      <th>age</th>\n",
       "      <th>NumberOfTime30-59DaysPastDueNotWorse</th>\n",
       "      <th>DebtRatio</th>\n",
       "      <th>NumberOfTimes90DaysLate</th>\n",
       "      <th>NumberOfTime60-89DaysPastDueNotWorse</th>\n",
       "      <th>MonthlyIncome</th>\n",
       "      <th>NumberOfDependents</th>\n",
       "    </tr>\n",
       "  </thead>\n",
       "  <tbody>\n",
       "    <tr>\n",
       "      <th>count</th>\n",
       "      <td>45063.000000</td>\n",
       "      <td>45063.000000</td>\n",
       "      <td>45063.000000</td>\n",
       "      <td>45063.000000</td>\n",
       "      <td>45063.000000</td>\n",
       "      <td>45063.000000</td>\n",
       "      <td>3.642000e+04</td>\n",
       "      <td>43946.000000</td>\n",
       "    </tr>\n",
       "    <tr>\n",
       "      <th>mean</th>\n",
       "      <td>0.222489</td>\n",
       "      <td>51.210949</td>\n",
       "      <td>0.750993</td>\n",
       "      <td>352.062688</td>\n",
       "      <td>0.570712</td>\n",
       "      <td>0.505870</td>\n",
       "      <td>6.452263e+03</td>\n",
       "      <td>0.789628</td>\n",
       "    </tr>\n",
       "    <tr>\n",
       "      <th>std</th>\n",
       "      <td>0.415922</td>\n",
       "      <td>14.651533</td>\n",
       "      <td>6.184521</td>\n",
       "      <td>2467.556358</td>\n",
       "      <td>6.173106</td>\n",
       "      <td>6.153609</td>\n",
       "      <td>1.263817e+04</td>\n",
       "      <td>1.130813</td>\n",
       "    </tr>\n",
       "    <tr>\n",
       "      <th>min</th>\n",
       "      <td>0.000000</td>\n",
       "      <td>21.000000</td>\n",
       "      <td>0.000000</td>\n",
       "      <td>0.000000</td>\n",
       "      <td>0.000000</td>\n",
       "      <td>0.000000</td>\n",
       "      <td>0.000000e+00</td>\n",
       "      <td>0.000000</td>\n",
       "    </tr>\n",
       "    <tr>\n",
       "      <th>25%</th>\n",
       "      <td>0.000000</td>\n",
       "      <td>40.000000</td>\n",
       "      <td>0.000000</td>\n",
       "      <td>0.176373</td>\n",
       "      <td>0.000000</td>\n",
       "      <td>0.000000</td>\n",
       "      <td>3.286000e+03</td>\n",
       "      <td>0.000000</td>\n",
       "    </tr>\n",
       "    <tr>\n",
       "      <th>50%</th>\n",
       "      <td>0.000000</td>\n",
       "      <td>51.000000</td>\n",
       "      <td>0.000000</td>\n",
       "      <td>0.373949</td>\n",
       "      <td>0.000000</td>\n",
       "      <td>0.000000</td>\n",
       "      <td>5.166000e+03</td>\n",
       "      <td>0.000000</td>\n",
       "    </tr>\n",
       "    <tr>\n",
       "      <th>75%</th>\n",
       "      <td>0.000000</td>\n",
       "      <td>62.000000</td>\n",
       "      <td>0.000000</td>\n",
       "      <td>0.857027</td>\n",
       "      <td>0.000000</td>\n",
       "      <td>0.000000</td>\n",
       "      <td>8.000000e+03</td>\n",
       "      <td>1.000000</td>\n",
       "    </tr>\n",
       "    <tr>\n",
       "      <th>max</th>\n",
       "      <td>1.000000</td>\n",
       "      <td>107.000000</td>\n",
       "      <td>98.000000</td>\n",
       "      <td>326442.000000</td>\n",
       "      <td>98.000000</td>\n",
       "      <td>98.000000</td>\n",
       "      <td>1.794060e+06</td>\n",
       "      <td>10.000000</td>\n",
       "    </tr>\n",
       "  </tbody>\n",
       "</table>\n",
       "</div>"
      ],
      "text/plain": [
       "       SeriousDlqin2yrs           age  NumberOfTime30-59DaysPastDueNotWorse  \\\n",
       "count      45063.000000  45063.000000                          45063.000000   \n",
       "mean           0.222489     51.210949                              0.750993   \n",
       "std            0.415922     14.651533                              6.184521   \n",
       "min            0.000000     21.000000                              0.000000   \n",
       "25%            0.000000     40.000000                              0.000000   \n",
       "50%            0.000000     51.000000                              0.000000   \n",
       "75%            0.000000     62.000000                              0.000000   \n",
       "max            1.000000    107.000000                             98.000000   \n",
       "\n",
       "           DebtRatio  NumberOfTimes90DaysLate  \\\n",
       "count   45063.000000             45063.000000   \n",
       "mean      352.062688                 0.570712   \n",
       "std      2467.556358                 6.173106   \n",
       "min         0.000000                 0.000000   \n",
       "25%         0.176373                 0.000000   \n",
       "50%         0.373949                 0.000000   \n",
       "75%         0.857027                 0.000000   \n",
       "max    326442.000000                98.000000   \n",
       "\n",
       "       NumberOfTime60-89DaysPastDueNotWorse  MonthlyIncome  NumberOfDependents  \n",
       "count                          45063.000000   3.642000e+04        43946.000000  \n",
       "mean                               0.505870   6.452263e+03            0.789628  \n",
       "std                                6.153609   1.263817e+04            1.130813  \n",
       "min                                0.000000   0.000000e+00            0.000000  \n",
       "25%                                0.000000   3.286000e+03            0.000000  \n",
       "50%                                0.000000   5.166000e+03            0.000000  \n",
       "75%                                0.000000   8.000000e+03            1.000000  \n",
       "max                               98.000000   1.794060e+06           10.000000  "
      ]
     },
     "execution_count": 6,
     "metadata": {},
     "output_type": "execute_result"
    }
   ],
   "source": [
    "data.describe()"
   ]
  },
  {
   "cell_type": "code",
   "execution_count": 7,
   "metadata": {
    "ExecuteTime": {
     "end_time": "2020-01-31T19:22:06.673501Z",
     "start_time": "2020-01-31T19:22:06.662461Z"
    }
   },
   "outputs": [],
   "source": [
    "data.dropna(axis = 0, subset=['MonthlyIncome'], inplace=True)"
   ]
  },
  {
   "cell_type": "code",
   "execution_count": 8,
   "metadata": {
    "ExecuteTime": {
     "end_time": "2020-01-31T19:22:06.688743Z",
     "start_time": "2020-01-31T19:22:06.676374Z"
    }
   },
   "outputs": [
    {
     "name": "stdout",
     "output_type": "stream",
     "text": [
      "<class 'pandas.core.frame.DataFrame'>\n",
      "Int64Index: 36420 entries, 0 to 45062\n",
      "Data columns (total 8 columns):\n",
      "SeriousDlqin2yrs                        36420 non-null int64\n",
      "age                                     36420 non-null int64\n",
      "NumberOfTime30-59DaysPastDueNotWorse    36420 non-null int64\n",
      "DebtRatio                               36420 non-null float64\n",
      "NumberOfTimes90DaysLate                 36420 non-null int64\n",
      "NumberOfTime60-89DaysPastDueNotWorse    36420 non-null int64\n",
      "MonthlyIncome                           36420 non-null float64\n",
      "NumberOfDependents                      36420 non-null float64\n",
      "dtypes: float64(3), int64(5)\n",
      "memory usage: 2.5 MB\n"
     ]
    }
   ],
   "source": [
    "data.info()"
   ]
  },
  {
   "cell_type": "code",
   "execution_count": 9,
   "metadata": {
    "ExecuteTime": {
     "end_time": "2020-01-31T19:22:06.713426Z",
     "start_time": "2020-01-31T19:22:06.691388Z"
    }
   },
   "outputs": [],
   "source": [
    "scaler = StandardScaler()\n",
    "data_std = scaler.fit_transform(data)"
   ]
  },
  {
   "cell_type": "code",
   "execution_count": 10,
   "metadata": {
    "ExecuteTime": {
     "end_time": "2020-01-31T19:22:12.792349Z",
     "start_time": "2020-01-31T19:22:06.715472Z"
    }
   },
   "outputs": [
    {
     "name": "stderr",
     "output_type": "stream",
     "text": [
      "/home/jeffc/anaconda3/lib/python3.7/site-packages/sklearn/utils/deprecation.py:144: FutureWarning: The sklearn.metrics.classification module is  deprecated in version 0.22 and will be removed in version 0.24. The corresponding classes / functions should instead be imported from sklearn.metrics. Anything that cannot be imported from sklearn.metrics is now part of the private API.\n",
      "  warnings.warn(message, FutureWarning)\n",
      "/home/jeffc/anaconda3/lib/python3.7/site-packages/matplotlib/font_manager.py:1241: UserWarning: findfont: Font family ['sans-serif'] not found. Falling back to DejaVu Sans.\n",
      "  (prop.get_family(), self.defaultFamily[fontext]))\n"
     ]
    },
    {
     "data": {
      "image/png": "[encoded data removed]",
      "text/plain": [
       "<Figure size 576x396 with 2 Axes>"
      ]
     },
     "metadata": {},
     "output_type": "display_data"
    }
   ],
   "source": [
    "from yellowbrick.cluster import KElbowVisualizer\n",
    "model = KMeans()\n",
    "# Instantiate the clustering model and visualizer\n",
    "visualizer = KElbowVisualizer(model, k=(1,10))\n",
    "\n",
    "visualizer.fit(data_std)        # Fit the data to the visualizer\n",
    "visualizer.show();"
   ]
  },
  {
   "cell_type": "code",
   "execution_count": 66,
   "metadata": {
    "ExecuteTime": {
     "end_time": "2020-01-31T20:05:23.346388Z",
     "start_time": "2020-01-31T20:05:23.300499Z"
    }
   },
   "outputs": [],
   "source": [
    "pca = PCA(3)\n",
    "data_pca = pca.fit_transform(data_std)"
   ]
  },
  {
   "cell_type": "code",
   "execution_count": 67,
   "metadata": {
    "ExecuteTime": {
     "end_time": "2020-01-31T20:05:29.056589Z",
     "start_time": "2020-01-31T20:05:29.048827Z"
    },
    "scrolled": true
   },
   "outputs": [
    {
     "data": {
      "text/html": [
       "<div>\n",
       "<style scoped>\n",
       "    .dataframe tbody tr th:only-of-type {\n",
       "        vertical-align: middle;\n",
       "    }\n",
       "\n",
       "    .dataframe tbody tr th {\n",
       "        vertical-align: top;\n",
       "    }\n",
       "\n",
       "    .dataframe thead th {\n",
       "        text-align: right;\n",
       "    }\n",
       "</style>\n",
       "<table border=\"1\" class=\"dataframe\">\n",
       "  <thead>\n",
       "    <tr style=\"text-align: right;\">\n",
       "      <th></th>\n",
       "      <th>0</th>\n",
       "      <th>1</th>\n",
       "      <th>2</th>\n",
       "    </tr>\n",
       "  </thead>\n",
       "  <tbody>\n",
       "    <tr>\n",
       "      <th>SeriousDlqin2yrs</th>\n",
       "      <td>0.111538</td>\n",
       "      <td>-0.476422</td>\n",
       "      <td>-0.147164</td>\n",
       "    </tr>\n",
       "    <tr>\n",
       "      <th>age</th>\n",
       "      <td>-0.059730</td>\n",
       "      <td>0.655450</td>\n",
       "      <td>0.073377</td>\n",
       "    </tr>\n",
       "    <tr>\n",
       "      <th>NumberOfTime30-59DaysPastDueNotWorse</th>\n",
       "      <td>0.572265</td>\n",
       "      <td>0.047885</td>\n",
       "      <td>0.018958</td>\n",
       "    </tr>\n",
       "    <tr>\n",
       "      <th>DebtRatio</th>\n",
       "      <td>-0.002975</td>\n",
       "      <td>-0.014279</td>\n",
       "      <td>-0.456716</td>\n",
       "    </tr>\n",
       "    <tr>\n",
       "      <th>NumberOfTimes90DaysLate</th>\n",
       "      <td>0.572725</td>\n",
       "      <td>0.054791</td>\n",
       "      <td>0.017583</td>\n",
       "    </tr>\n",
       "    <tr>\n",
       "      <th>NumberOfTime60-89DaysPastDueNotWorse</th>\n",
       "      <td>0.572774</td>\n",
       "      <td>0.066261</td>\n",
       "      <td>0.022031</td>\n",
       "    </tr>\n",
       "    <tr>\n",
       "      <th>MonthlyIncome</th>\n",
       "      <td>-0.019379</td>\n",
       "      <td>0.054843</td>\n",
       "      <td>0.820135</td>\n",
       "    </tr>\n",
       "    <tr>\n",
       "      <th>NumberOfDependents</th>\n",
       "      <td>0.005960</td>\n",
       "      <td>-0.574900</td>\n",
       "      <td>0.300988</td>\n",
       "    </tr>\n",
       "  </tbody>\n",
       "</table>\n",
       "</div>"
      ],
      "text/plain": [
       "                                             0         1         2\n",
       "SeriousDlqin2yrs                      0.111538 -0.476422 -0.147164\n",
       "age                                  -0.059730  0.655450  0.073377\n",
       "NumberOfTime30-59DaysPastDueNotWorse  0.572265  0.047885  0.018958\n",
       "DebtRatio                            -0.002975 -0.014279 -0.456716\n",
       "NumberOfTimes90DaysLate               0.572725  0.054791  0.017583\n",
       "NumberOfTime60-89DaysPastDueNotWorse  0.572774  0.066261  0.022031\n",
       "MonthlyIncome                        -0.019379  0.054843  0.820135\n",
       "NumberOfDependents                    0.005960 -0.574900  0.300988"
      ]
     },
     "execution_count": 67,
     "metadata": {},
     "output_type": "execute_result"
    }
   ],
   "source": [
    "pd.DataFrame(pca.components_.T, index=list(data.columns)[:8])"
   ]
  },
  {
   "cell_type": "code",
   "execution_count": 65,
   "metadata": {
    "ExecuteTime": {
     "end_time": "2020-01-31T20:00:48.651251Z",
     "start_time": "2020-01-31T20:00:41.512652Z"
    }
   },
   "outputs": [
    {
     "data": {
      "image/png": "[encoded data removed]",
      "text/plain": [
       "<Figure size 864x576 with 4 Axes>"
      ]
     },
     "metadata": {},
     "output_type": "display_data"
    }
   ],
   "source": [
    "fig, axis = plt.subplots(nrows=2,ncols=2, figsize=(12,8))\n",
    "cluster = list(range(2,6))\n",
    "for i in range(2):\n",
    "    for j in range(2):\n",
    "        labels = KMeans( n_clusters = cluster[i+j] ).fit_predict(data_std)\n",
    "        data_pca = pca.fit_transform(data_std)\n",
    "        sns.scatterplot(x= data_pca[:,0], y = data_pca[:,1], hue=labels, palette='rainbow', ax=axis[i][j])\n",
    "        axis[i][j].set_xlim(-1, 5)"
   ]
  },
  {
   "cell_type": "code",
   "execution_count": 19,
   "metadata": {
    "ExecuteTime": {
     "end_time": "2020-01-31T19:27:54.125775Z",
     "start_time": "2020-01-31T19:27:23.658645Z"
    }
   },
   "outputs": [
    {
     "data": {
      "image/png": "[encoded data removed]",
      "text/plain": [
       "<Figure size 576x576 with 1 Axes>"
      ]
     },
     "metadata": {},
     "output_type": "display_data"
    }
   ],
   "source": [
    "fig, axis = plt.subplots(figsize=(8,8))\n",
    "labels_dbscan = DBSCAN(n_jobs=-1, eps=3).fit_predict(data_std)\n",
    "sns.scatterplot(x= data_pca[:,0], y = data_pca[:,1], hue=labels_dbscan, palette='rainbow');"
   ]
  },
  {
   "cell_type": "code",
   "execution_count": 20,
   "metadata": {
    "ExecuteTime": {
     "end_time": "2020-01-31T19:27:54.696874Z",
     "start_time": "2020-01-31T19:27:54.303050Z"
    }
   },
   "outputs": [],
   "source": [
    "labels_kmeans = KMeans(2, random_state=42).fit_predict(data_std)"
   ]
  },
  {
   "cell_type": "code",
   "execution_count": 21,
   "metadata": {
    "ExecuteTime": {
     "end_time": "2020-01-31T19:27:54.890847Z",
     "start_time": "2020-01-31T19:27:54.880215Z"
    }
   },
   "outputs": [],
   "source": [
    "data['labels_kmeans'] = labels_kmeans\n",
    "data['labels_dbscan'] = labels_dbscan"
   ]
  },
  {
   "cell_type": "code",
   "execution_count": 25,
   "metadata": {
    "ExecuteTime": {
     "end_time": "2020-01-31T19:29:46.970492Z",
     "start_time": "2020-01-31T19:29:46.966928Z"
    },
    "run_control": {
     "marked": false
    }
   },
   "outputs": [],
   "source": [
    "pca_8 = PCA(8, random_state=42)"
   ]
  },
  {
   "cell_type": "code",
   "execution_count": 26,
   "metadata": {
    "ExecuteTime": {
     "end_time": "2020-01-31T19:30:05.731429Z",
     "start_time": "2020-01-31T19:30:05.285016Z"
    }
   },
   "outputs": [
    {
     "data": {
      "text/html": [
       "<div>\n",
       "<style scoped>\n",
       "    .dataframe tbody tr th:only-of-type {\n",
       "        vertical-align: middle;\n",
       "    }\n",
       "\n",
       "    .dataframe tbody tr th {\n",
       "        vertical-align: top;\n",
       "    }\n",
       "\n",
       "    .dataframe thead th {\n",
       "        text-align: right;\n",
       "    }\n",
       "</style>\n",
       "<table border=\"1\" class=\"dataframe\">\n",
       "  <thead>\n",
       "    <tr style=\"text-align: right;\">\n",
       "      <th></th>\n",
       "      <th>cum_var_exp</th>\n",
       "    </tr>\n",
       "  </thead>\n",
       "  <tbody>\n",
       "    <tr>\n",
       "      <th>pc1</th>\n",
       "      <td>0.375152</td>\n",
       "    </tr>\n",
       "    <tr>\n",
       "      <th>pc2</th>\n",
       "      <td>0.536046</td>\n",
       "    </tr>\n",
       "    <tr>\n",
       "      <th>pc3</th>\n",
       "      <td>0.667067</td>\n",
       "    </tr>\n",
       "    <tr>\n",
       "      <th>pc4</th>\n",
       "      <td>0.791271</td>\n",
       "    </tr>\n",
       "    <tr>\n",
       "      <th>pc5</th>\n",
       "      <td>0.901498</td>\n",
       "    </tr>\n",
       "    <tr>\n",
       "      <th>pc6</th>\n",
       "      <td>0.996403</td>\n",
       "    </tr>\n",
       "    <tr>\n",
       "      <th>pc7</th>\n",
       "      <td>0.998905</td>\n",
       "    </tr>\n",
       "    <tr>\n",
       "      <th>pc8</th>\n",
       "      <td>1.000000</td>\n",
       "    </tr>\n",
       "  </tbody>\n",
       "</table>\n",
       "</div>"
      ],
      "text/plain": [
       "     cum_var_exp\n",
       "pc1     0.375152\n",
       "pc2     0.536046\n",
       "pc3     0.667067\n",
       "pc4     0.791271\n",
       "pc5     0.901498\n",
       "pc6     0.996403\n",
       "pc7     0.998905\n",
       "pc8     1.000000"
      ]
     },
     "metadata": {},
     "output_type": "display_data"
    },
    {
     "data": {
      "image/png": "[encoded data removed]",
      "text/plain": [
       "<Figure size 576x396 with 1 Axes>"
      ]
     },
     "metadata": {},
     "output_type": "display_data"
    }
   ],
   "source": [
    "labels = KMeans(n_clusters = 2).fit_predict(data_std)\n",
    "data_pca_8 = pca_8.fit(data_std)\n",
    "pcas = data_pca_8.transform(data_std)\n",
    "pca_ls = ['pc1', 'pc2', 'pc3', 'pc4', 'pc5', 'pc6', 'pc7', 'pc8']\n",
    "cum_var_exp = np.cumsum(data_pca_8.explained_variance_ratio_)\n",
    "\n",
    "cum_var_exp_df = pd.DataFrame(cum_var_exp, index=pca_ls, columns=['cum_var_exp'])\n",
    "display(cum_var_exp_df)\n",
    "sns.lineplot(x=cum_var_exp_df.index, y='cum_var_exp', data=cum_var_exp_df, marker='o');"
   ]
  },
  {
   "cell_type": "code",
   "execution_count": 73,
   "metadata": {
    "ExecuteTime": {
     "end_time": "2020-01-31T20:43:54.041594Z",
     "start_time": "2020-01-31T20:43:54.009430Z"
    }
   },
   "outputs": [
    {
     "data": {
      "text/html": [
       "<div>\n",
       "<style scoped>\n",
       "    .dataframe tbody tr th:only-of-type {\n",
       "        vertical-align: middle;\n",
       "    }\n",
       "\n",
       "    .dataframe tbody tr th {\n",
       "        vertical-align: top;\n",
       "    }\n",
       "\n",
       "    .dataframe thead th {\n",
       "        text-align: right;\n",
       "    }\n",
       "</style>\n",
       "<table border=\"1\" class=\"dataframe\">\n",
       "  <thead>\n",
       "    <tr style=\"text-align: right;\">\n",
       "      <th></th>\n",
       "      <th>SeriousDlqin2yrs</th>\n",
       "      <th>age</th>\n",
       "      <th>NumberOfTime30-59DaysPastDueNotWorse</th>\n",
       "      <th>DebtRatio</th>\n",
       "      <th>NumberOfTimes90DaysLate</th>\n",
       "      <th>NumberOfTime60-89DaysPastDueNotWorse</th>\n",
       "      <th>MonthlyIncome</th>\n",
       "      <th>NumberOfDependents</th>\n",
       "      <th>labels_kmeans</th>\n",
       "      <th>labels_dbscan</th>\n",
       "    </tr>\n",
       "  </thead>\n",
       "  <tbody>\n",
       "    <tr>\n",
       "      <th>SeriousDlqin2yrs</th>\n",
       "      <td>1.000000</td>\n",
       "      <td>-0.169425</td>\n",
       "      <td>0.139172</td>\n",
       "      <td>-0.008722</td>\n",
       "      <td>0.125176</td>\n",
       "      <td>0.105772</td>\n",
       "      <td>-0.035469</td>\n",
       "      <td>0.077348</td>\n",
       "      <td>0.077538</td>\n",
       "      <td>0.070220</td>\n",
       "    </tr>\n",
       "    <tr>\n",
       "      <th>age</th>\n",
       "      <td>-0.169425</td>\n",
       "      <td>1.000000</td>\n",
       "      <td>-0.058200</td>\n",
       "      <td>0.000811</td>\n",
       "      <td>-0.059877</td>\n",
       "      <td>-0.053865</td>\n",
       "      <td>0.051417</td>\n",
       "      <td>-0.198861</td>\n",
       "      <td>-0.047152</td>\n",
       "      <td>-0.046407</td>\n",
       "    </tr>\n",
       "    <tr>\n",
       "      <th>NumberOfTime30-59DaysPastDueNotWorse</th>\n",
       "      <td>0.139172</td>\n",
       "      <td>-0.058200</td>\n",
       "      <td>1.000000</td>\n",
       "      <td>-0.002515</td>\n",
       "      <td>0.980491</td>\n",
       "      <td>0.985255</td>\n",
       "      <td>-0.017516</td>\n",
       "      <td>-0.000211</td>\n",
       "      <td>0.984096</td>\n",
       "      <td>0.903680</td>\n",
       "    </tr>\n",
       "    <tr>\n",
       "      <th>DebtRatio</th>\n",
       "      <td>-0.008722</td>\n",
       "      <td>0.000811</td>\n",
       "      <td>-0.002515</td>\n",
       "      <td>1.000000</td>\n",
       "      <td>-0.003719</td>\n",
       "      <td>-0.003593</td>\n",
       "      <td>-0.032343</td>\n",
       "      <td>0.011221</td>\n",
       "      <td>-0.003329</td>\n",
       "      <td>-0.192114</td>\n",
       "    </tr>\n",
       "    <tr>\n",
       "      <th>NumberOfTimes90DaysLate</th>\n",
       "      <td>0.125176</td>\n",
       "      <td>-0.059877</td>\n",
       "      <td>0.980491</td>\n",
       "      <td>-0.003719</td>\n",
       "      <td>1.000000</td>\n",
       "      <td>0.990152</td>\n",
       "      <td>-0.020486</td>\n",
       "      <td>-0.005440</td>\n",
       "      <td>0.990189</td>\n",
       "      <td>0.910075</td>\n",
       "    </tr>\n",
       "    <tr>\n",
       "      <th>NumberOfTime60-89DaysPastDueNotWorse</th>\n",
       "      <td>0.105772</td>\n",
       "      <td>-0.053865</td>\n",
       "      <td>0.985255</td>\n",
       "      <td>-0.003593</td>\n",
       "      <td>0.990152</td>\n",
       "      <td>1.000000</td>\n",
       "      <td>-0.018203</td>\n",
       "      <td>-0.007377</td>\n",
       "      <td>0.995696</td>\n",
       "      <td>0.914932</td>\n",
       "    </tr>\n",
       "    <tr>\n",
       "      <th>MonthlyIncome</th>\n",
       "      <td>-0.035469</td>\n",
       "      <td>0.051417</td>\n",
       "      <td>-0.017516</td>\n",
       "      <td>-0.032343</td>\n",
       "      <td>-0.020486</td>\n",
       "      <td>-0.018203</td>\n",
       "      <td>1.000000</td>\n",
       "      <td>0.055916</td>\n",
       "      <td>-0.016615</td>\n",
       "      <td>-0.201510</td>\n",
       "    </tr>\n",
       "    <tr>\n",
       "      <th>NumberOfDependents</th>\n",
       "      <td>0.077348</td>\n",
       "      <td>-0.198861</td>\n",
       "      <td>-0.000211</td>\n",
       "      <td>0.011221</td>\n",
       "      <td>-0.005440</td>\n",
       "      <td>-0.007377</td>\n",
       "      <td>0.055916</td>\n",
       "      <td>1.000000</td>\n",
       "      <td>-0.012145</td>\n",
       "      <td>-0.009938</td>\n",
       "    </tr>\n",
       "    <tr>\n",
       "      <th>labels_kmeans</th>\n",
       "      <td>0.077538</td>\n",
       "      <td>-0.047152</td>\n",
       "      <td>0.984096</td>\n",
       "      <td>-0.003329</td>\n",
       "      <td>0.990189</td>\n",
       "      <td>0.995696</td>\n",
       "      <td>-0.016615</td>\n",
       "      <td>-0.012145</td>\n",
       "      <td>1.000000</td>\n",
       "      <td>0.919059</td>\n",
       "    </tr>\n",
       "    <tr>\n",
       "      <th>labels_dbscan</th>\n",
       "      <td>0.070220</td>\n",
       "      <td>-0.046407</td>\n",
       "      <td>0.903680</td>\n",
       "      <td>-0.192114</td>\n",
       "      <td>0.910075</td>\n",
       "      <td>0.914932</td>\n",
       "      <td>-0.201510</td>\n",
       "      <td>-0.009938</td>\n",
       "      <td>0.919059</td>\n",
       "      <td>1.000000</td>\n",
       "    </tr>\n",
       "  </tbody>\n",
       "</table>\n",
       "</div>"
      ],
      "text/plain": [
       "                                      SeriousDlqin2yrs       age  \\\n",
       "SeriousDlqin2yrs                              1.000000 -0.169425   \n",
       "age                                          -0.169425  1.000000   \n",
       "NumberOfTime30-59DaysPastDueNotWorse          0.139172 -0.058200   \n",
       "DebtRatio                                    -0.008722  0.000811   \n",
       "NumberOfTimes90DaysLate                       0.125176 -0.059877   \n",
       "NumberOfTime60-89DaysPastDueNotWorse          0.105772 -0.053865   \n",
       "MonthlyIncome                                -0.035469  0.051417   \n",
       "NumberOfDependents                            0.077348 -0.198861   \n",
       "labels_kmeans                                 0.077538 -0.047152   \n",
       "labels_dbscan                                 0.070220 -0.046407   \n",
       "\n",
       "                                      NumberOfTime30-59DaysPastDueNotWorse  \\\n",
       "SeriousDlqin2yrs                                                  0.139172   \n",
       "age                                                              -0.058200   \n",
       "NumberOfTime30-59DaysPastDueNotWorse                              1.000000   \n",
       "DebtRatio                                                        -0.002515   \n",
       "NumberOfTimes90DaysLate                                           0.980491   \n",
       "NumberOfTime60-89DaysPastDueNotWorse                              0.985255   \n",
       "MonthlyIncome                                                    -0.017516   \n",
       "NumberOfDependents                                               -0.000211   \n",
       "labels_kmeans                                                     0.984096   \n",
       "labels_dbscan                                                     0.903680   \n",
       "\n",
       "                                      DebtRatio  NumberOfTimes90DaysLate  \\\n",
       "SeriousDlqin2yrs                      -0.008722                 0.125176   \n",
       "age                                    0.000811                -0.059877   \n",
       "NumberOfTime30-59DaysPastDueNotWorse  -0.002515                 0.980491   \n",
       "DebtRatio                              1.000000                -0.003719   \n",
       "NumberOfTimes90DaysLate               -0.003719                 1.000000   \n",
       "NumberOfTime60-89DaysPastDueNotWorse  -0.003593                 0.990152   \n",
       "MonthlyIncome                         -0.032343                -0.020486   \n",
       "NumberOfDependents                     0.011221                -0.005440   \n",
       "labels_kmeans                         -0.003329                 0.990189   \n",
       "labels_dbscan                         -0.192114                 0.910075   \n",
       "\n",
       "                                      NumberOfTime60-89DaysPastDueNotWorse  \\\n",
       "SeriousDlqin2yrs                                                  0.105772   \n",
       "age                                                              -0.053865   \n",
       "NumberOfTime30-59DaysPastDueNotWorse                              0.985255   \n",
       "DebtRatio                                                        -0.003593   \n",
       "NumberOfTimes90DaysLate                                           0.990152   \n",
       "NumberOfTime60-89DaysPastDueNotWorse                              1.000000   \n",
       "MonthlyIncome                                                    -0.018203   \n",
       "NumberOfDependents                                               -0.007377   \n",
       "labels_kmeans                                                     0.995696   \n",
       "labels_dbscan                                                     0.914932   \n",
       "\n",
       "                                      MonthlyIncome  NumberOfDependents  \\\n",
       "SeriousDlqin2yrs                          -0.035469            0.077348   \n",
       "age                                        0.051417           -0.198861   \n",
       "NumberOfTime30-59DaysPastDueNotWorse      -0.017516           -0.000211   \n",
       "DebtRatio                                 -0.032343            0.011221   \n",
       "NumberOfTimes90DaysLate                   -0.020486           -0.005440   \n",
       "NumberOfTime60-89DaysPastDueNotWorse      -0.018203           -0.007377   \n",
       "MonthlyIncome                              1.000000            0.055916   \n",
       "NumberOfDependents                         0.055916            1.000000   \n",
       "labels_kmeans                             -0.016615           -0.012145   \n",
       "labels_dbscan                             -0.201510           -0.009938   \n",
       "\n",
       "                                      labels_kmeans  labels_dbscan  \n",
       "SeriousDlqin2yrs                           0.077538       0.070220  \n",
       "age                                       -0.047152      -0.046407  \n",
       "NumberOfTime30-59DaysPastDueNotWorse       0.984096       0.903680  \n",
       "DebtRatio                                 -0.003329      -0.192114  \n",
       "NumberOfTimes90DaysLate                    0.990189       0.910075  \n",
       "NumberOfTime60-89DaysPastDueNotWorse       0.995696       0.914932  \n",
       "MonthlyIncome                             -0.016615      -0.201510  \n",
       "NumberOfDependents                        -0.012145      -0.009938  \n",
       "labels_kmeans                              1.000000       0.919059  \n",
       "labels_dbscan                              0.919059       1.000000  "
      ]
     },
     "execution_count": 73,
     "metadata": {},
     "output_type": "execute_result"
    }
   ],
   "source": [
    "data.corr()"
   ]
  },
  {
   "cell_type": "code",
   "execution_count": 28,
   "metadata": {
    "ExecuteTime": {
     "end_time": "2020-01-31T19:31:03.343204Z",
     "start_time": "2020-01-31T19:31:03.323880Z"
    }
   },
   "outputs": [],
   "source": [
    "data_0 = data[data['labels_kmeans'] == 0]\n",
    "data_1 = data[data['labels_kmeans'] == 1]"
   ]
  },
  {
   "cell_type": "code",
   "execution_count": 32,
   "metadata": {
    "ExecuteTime": {
     "end_time": "2020-01-31T19:32:08.203082Z",
     "start_time": "2020-01-31T19:32:08.124298Z"
    },
    "scrolled": true
   },
   "outputs": [
    {
     "data": {
      "text/html": [
       "<div>\n",
       "<style scoped>\n",
       "    .dataframe tbody tr th:only-of-type {\n",
       "        vertical-align: middle;\n",
       "    }\n",
       "\n",
       "    .dataframe tbody tr th {\n",
       "        vertical-align: top;\n",
       "    }\n",
       "\n",
       "    .dataframe thead th {\n",
       "        text-align: right;\n",
       "    }\n",
       "</style>\n",
       "<table border=\"1\" class=\"dataframe\">\n",
       "  <thead>\n",
       "    <tr style=\"text-align: right;\">\n",
       "      <th></th>\n",
       "      <th>SeriousDlqin2yrs</th>\n",
       "      <th>age</th>\n",
       "      <th>NumberOfTime30-59DaysPastDueNotWorse</th>\n",
       "      <th>DebtRatio</th>\n",
       "      <th>NumberOfTimes90DaysLate</th>\n",
       "      <th>NumberOfTime60-89DaysPastDueNotWorse</th>\n",
       "      <th>MonthlyIncome</th>\n",
       "      <th>NumberOfDependents</th>\n",
       "      <th>labels_kmeans</th>\n",
       "      <th>labels_dbscan</th>\n",
       "    </tr>\n",
       "  </thead>\n",
       "  <tbody>\n",
       "    <tr>\n",
       "      <th>count</th>\n",
       "      <td>36322.000000</td>\n",
       "      <td>36322.000000</td>\n",
       "      <td>36322.000000</td>\n",
       "      <td>36322.000000</td>\n",
       "      <td>36322.000000</td>\n",
       "      <td>36322.000000</td>\n",
       "      <td>3.632200e+04</td>\n",
       "      <td>36322.000000</td>\n",
       "      <td>36322.0</td>\n",
       "      <td>36322.000000</td>\n",
       "    </tr>\n",
       "    <tr>\n",
       "      <th>mean</th>\n",
       "      <td>0.227768</td>\n",
       "      <td>50.333214</td>\n",
       "      <td>0.387038</td>\n",
       "      <td>28.701623</td>\n",
       "      <td>0.185562</td>\n",
       "      <td>0.122433</td>\n",
       "      <td>6.463170e+03</td>\n",
       "      <td>0.884340</td>\n",
       "      <td>0.0</td>\n",
       "      <td>-0.000496</td>\n",
       "    </tr>\n",
       "    <tr>\n",
       "      <th>std</th>\n",
       "      <td>0.419398</td>\n",
       "      <td>14.253896</td>\n",
       "      <td>0.913014</td>\n",
       "      <td>447.194172</td>\n",
       "      <td>0.715137</td>\n",
       "      <td>0.471732</td>\n",
       "      <td>1.265323e+04</td>\n",
       "      <td>1.161015</td>\n",
       "      <td>0.0</td>\n",
       "      <td>0.022256</td>\n",
       "    </tr>\n",
       "    <tr>\n",
       "      <th>min</th>\n",
       "      <td>0.000000</td>\n",
       "      <td>21.000000</td>\n",
       "      <td>0.000000</td>\n",
       "      <td>0.000000</td>\n",
       "      <td>0.000000</td>\n",
       "      <td>0.000000</td>\n",
       "      <td>0.000000e+00</td>\n",
       "      <td>0.000000</td>\n",
       "      <td>0.0</td>\n",
       "      <td>-1.000000</td>\n",
       "    </tr>\n",
       "    <tr>\n",
       "      <th>25%</th>\n",
       "      <td>0.000000</td>\n",
       "      <td>40.000000</td>\n",
       "      <td>0.000000</td>\n",
       "      <td>0.147275</td>\n",
       "      <td>0.000000</td>\n",
       "      <td>0.000000</td>\n",
       "      <td>3.300000e+03</td>\n",
       "      <td>0.000000</td>\n",
       "      <td>0.0</td>\n",
       "      <td>0.000000</td>\n",
       "    </tr>\n",
       "    <tr>\n",
       "      <th>50%</th>\n",
       "      <td>0.000000</td>\n",
       "      <td>50.000000</td>\n",
       "      <td>0.000000</td>\n",
       "      <td>0.304959</td>\n",
       "      <td>0.000000</td>\n",
       "      <td>0.000000</td>\n",
       "      <td>5.167000e+03</td>\n",
       "      <td>0.000000</td>\n",
       "      <td>0.0</td>\n",
       "      <td>0.000000</td>\n",
       "    </tr>\n",
       "    <tr>\n",
       "      <th>75%</th>\n",
       "      <td>0.000000</td>\n",
       "      <td>60.000000</td>\n",
       "      <td>0.000000</td>\n",
       "      <td>0.502489</td>\n",
       "      <td>0.000000</td>\n",
       "      <td>0.000000</td>\n",
       "      <td>8.000000e+03</td>\n",
       "      <td>2.000000</td>\n",
       "      <td>0.0</td>\n",
       "      <td>0.000000</td>\n",
       "    </tr>\n",
       "    <tr>\n",
       "      <th>max</th>\n",
       "      <td>1.000000</td>\n",
       "      <td>103.000000</td>\n",
       "      <td>13.000000</td>\n",
       "      <td>49112.000000</td>\n",
       "      <td>17.000000</td>\n",
       "      <td>11.000000</td>\n",
       "      <td>1.794060e+06</td>\n",
       "      <td>10.000000</td>\n",
       "      <td>0.0</td>\n",
       "      <td>0.000000</td>\n",
       "    </tr>\n",
       "  </tbody>\n",
       "</table>\n",
       "</div>"
      ],
      "text/plain": [
       "       SeriousDlqin2yrs           age  NumberOfTime30-59DaysPastDueNotWorse  \\\n",
       "count      36322.000000  36322.000000                          36322.000000   \n",
       "mean           0.227768     50.333214                              0.387038   \n",
       "std            0.419398     14.253896                              0.913014   \n",
       "min            0.000000     21.000000                              0.000000   \n",
       "25%            0.000000     40.000000                              0.000000   \n",
       "50%            0.000000     50.000000                              0.000000   \n",
       "75%            0.000000     60.000000                              0.000000   \n",
       "max            1.000000    103.000000                             13.000000   \n",
       "\n",
       "          DebtRatio  NumberOfTimes90DaysLate  \\\n",
       "count  36322.000000             36322.000000   \n",
       "mean      28.701623                 0.185562   \n",
       "std      447.194172                 0.715137   \n",
       "min        0.000000                 0.000000   \n",
       "25%        0.147275                 0.000000   \n",
       "50%        0.304959                 0.000000   \n",
       "75%        0.502489                 0.000000   \n",
       "max    49112.000000                17.000000   \n",
       "\n",
       "       NumberOfTime60-89DaysPastDueNotWorse  MonthlyIncome  \\\n",
       "count                          36322.000000   3.632200e+04   \n",
       "mean                               0.122433   6.463170e+03   \n",
       "std                                0.471732   1.265323e+04   \n",
       "min                                0.000000   0.000000e+00   \n",
       "25%                                0.000000   3.300000e+03   \n",
       "50%                                0.000000   5.167000e+03   \n",
       "75%                                0.000000   8.000000e+03   \n",
       "max                               11.000000   1.794060e+06   \n",
       "\n",
       "       NumberOfDependents  labels_kmeans  labels_dbscan  \n",
       "count        36322.000000        36322.0   36322.000000  \n",
       "mean             0.884340            0.0      -0.000496  \n",
       "std              1.161015            0.0       0.022256  \n",
       "min              0.000000            0.0      -1.000000  \n",
       "25%              0.000000            0.0       0.000000  \n",
       "50%              0.000000            0.0       0.000000  \n",
       "75%              2.000000            0.0       0.000000  \n",
       "max             10.000000            0.0       0.000000  "
      ]
     },
     "metadata": {},
     "output_type": "display_data"
    },
    {
     "data": {
      "text/html": [
       "<div>\n",
       "<style scoped>\n",
       "    .dataframe tbody tr th:only-of-type {\n",
       "        vertical-align: middle;\n",
       "    }\n",
       "\n",
       "    .dataframe tbody tr th {\n",
       "        vertical-align: top;\n",
       "    }\n",
       "\n",
       "    .dataframe thead th {\n",
       "        text-align: right;\n",
       "    }\n",
       "</style>\n",
       "<table border=\"1\" class=\"dataframe\">\n",
       "  <thead>\n",
       "    <tr style=\"text-align: right;\">\n",
       "      <th></th>\n",
       "      <th>SeriousDlqin2yrs</th>\n",
       "      <th>age</th>\n",
       "      <th>NumberOfTime30-59DaysPastDueNotWorse</th>\n",
       "      <th>DebtRatio</th>\n",
       "      <th>NumberOfTimes90DaysLate</th>\n",
       "      <th>NumberOfTime60-89DaysPastDueNotWorse</th>\n",
       "      <th>MonthlyIncome</th>\n",
       "      <th>NumberOfDependents</th>\n",
       "      <th>labels_kmeans</th>\n",
       "      <th>labels_dbscan</th>\n",
       "    </tr>\n",
       "  </thead>\n",
       "  <tbody>\n",
       "    <tr>\n",
       "      <th>count</th>\n",
       "      <td>98.000000</td>\n",
       "      <td>98.000000</td>\n",
       "      <td>98.000000</td>\n",
       "      <td>98.000000</td>\n",
       "      <td>98.000000</td>\n",
       "      <td>98.000000</td>\n",
       "      <td>98.000000</td>\n",
       "      <td>98.000000</td>\n",
       "      <td>98.0</td>\n",
       "      <td>98.0</td>\n",
       "    </tr>\n",
       "    <tr>\n",
       "      <th>mean</th>\n",
       "      <td>0.857143</td>\n",
       "      <td>37.346939</td>\n",
       "      <td>97.918367</td>\n",
       "      <td>0.005892</td>\n",
       "      <td>97.918367</td>\n",
       "      <td>97.918367</td>\n",
       "      <td>2409.765306</td>\n",
       "      <td>0.612245</td>\n",
       "      <td>1.0</td>\n",
       "      <td>1.0</td>\n",
       "    </tr>\n",
       "    <tr>\n",
       "      <th>std</th>\n",
       "      <td>0.351726</td>\n",
       "      <td>13.405724</td>\n",
       "      <td>0.397764</td>\n",
       "      <td>0.013487</td>\n",
       "      <td>0.397764</td>\n",
       "      <td>0.397764</td>\n",
       "      <td>1462.770643</td>\n",
       "      <td>0.948495</td>\n",
       "      <td>0.0</td>\n",
       "      <td>0.0</td>\n",
       "    </tr>\n",
       "    <tr>\n",
       "      <th>min</th>\n",
       "      <td>0.000000</td>\n",
       "      <td>21.000000</td>\n",
       "      <td>96.000000</td>\n",
       "      <td>0.000000</td>\n",
       "      <td>96.000000</td>\n",
       "      <td>96.000000</td>\n",
       "      <td>0.000000</td>\n",
       "      <td>0.000000</td>\n",
       "      <td>1.0</td>\n",
       "      <td>1.0</td>\n",
       "    </tr>\n",
       "    <tr>\n",
       "      <th>25%</th>\n",
       "      <td>1.000000</td>\n",
       "      <td>27.000000</td>\n",
       "      <td>98.000000</td>\n",
       "      <td>0.000000</td>\n",
       "      <td>98.000000</td>\n",
       "      <td>98.000000</td>\n",
       "      <td>1381.250000</td>\n",
       "      <td>0.000000</td>\n",
       "      <td>1.0</td>\n",
       "      <td>1.0</td>\n",
       "    </tr>\n",
       "    <tr>\n",
       "      <th>50%</th>\n",
       "      <td>1.000000</td>\n",
       "      <td>33.000000</td>\n",
       "      <td>98.000000</td>\n",
       "      <td>0.000000</td>\n",
       "      <td>98.000000</td>\n",
       "      <td>98.000000</td>\n",
       "      <td>2200.000000</td>\n",
       "      <td>0.000000</td>\n",
       "      <td>1.0</td>\n",
       "      <td>1.0</td>\n",
       "    </tr>\n",
       "    <tr>\n",
       "      <th>75%</th>\n",
       "      <td>1.000000</td>\n",
       "      <td>46.750000</td>\n",
       "      <td>98.000000</td>\n",
       "      <td>0.006527</td>\n",
       "      <td>98.000000</td>\n",
       "      <td>98.000000</td>\n",
       "      <td>3191.500000</td>\n",
       "      <td>1.000000</td>\n",
       "      <td>1.0</td>\n",
       "      <td>1.0</td>\n",
       "    </tr>\n",
       "    <tr>\n",
       "      <th>max</th>\n",
       "      <td>1.000000</td>\n",
       "      <td>79.000000</td>\n",
       "      <td>98.000000</td>\n",
       "      <td>0.073789</td>\n",
       "      <td>98.000000</td>\n",
       "      <td>98.000000</td>\n",
       "      <td>7840.000000</td>\n",
       "      <td>4.000000</td>\n",
       "      <td>1.0</td>\n",
       "      <td>1.0</td>\n",
       "    </tr>\n",
       "  </tbody>\n",
       "</table>\n",
       "</div>"
      ],
      "text/plain": [
       "       SeriousDlqin2yrs        age  NumberOfTime30-59DaysPastDueNotWorse  \\\n",
       "count         98.000000  98.000000                             98.000000   \n",
       "mean           0.857143  37.346939                             97.918367   \n",
       "std            0.351726  13.405724                              0.397764   \n",
       "min            0.000000  21.000000                             96.000000   \n",
       "25%            1.000000  27.000000                             98.000000   \n",
       "50%            1.000000  33.000000                             98.000000   \n",
       "75%            1.000000  46.750000                             98.000000   \n",
       "max            1.000000  79.000000                             98.000000   \n",
       "\n",
       "       DebtRatio  NumberOfTimes90DaysLate  \\\n",
       "count  98.000000                98.000000   \n",
       "mean    0.005892                97.918367   \n",
       "std     0.013487                 0.397764   \n",
       "min     0.000000                96.000000   \n",
       "25%     0.000000                98.000000   \n",
       "50%     0.000000                98.000000   \n",
       "75%     0.006527                98.000000   \n",
       "max     0.073789                98.000000   \n",
       "\n",
       "       NumberOfTime60-89DaysPastDueNotWorse  MonthlyIncome  \\\n",
       "count                             98.000000      98.000000   \n",
       "mean                              97.918367    2409.765306   \n",
       "std                                0.397764    1462.770643   \n",
       "min                               96.000000       0.000000   \n",
       "25%                               98.000000    1381.250000   \n",
       "50%                               98.000000    2200.000000   \n",
       "75%                               98.000000    3191.500000   \n",
       "max                               98.000000    7840.000000   \n",
       "\n",
       "       NumberOfDependents  labels_kmeans  labels_dbscan  \n",
       "count           98.000000           98.0           98.0  \n",
       "mean             0.612245            1.0            1.0  \n",
       "std              0.948495            0.0            0.0  \n",
       "min              0.000000            1.0            1.0  \n",
       "25%              0.000000            1.0            1.0  \n",
       "50%              0.000000            1.0            1.0  \n",
       "75%              1.000000            1.0            1.0  \n",
       "max              4.000000            1.0            1.0  "
      ]
     },
     "metadata": {},
     "output_type": "display_data"
    }
   ],
   "source": [
    "display(data_0.describe())\n",
    "display(data_1.describe())"
   ]
  },
  {
   "cell_type": "code",
   "execution_count": 72,
   "metadata": {
    "ExecuteTime": {
     "end_time": "2020-01-31T20:28:25.695494Z",
     "start_time": "2020-01-31T20:28:25.681409Z"
    },
    "scrolled": true
   },
   "outputs": [
    {
     "data": {
      "text/html": [
       "<div>\n",
       "<style scoped>\n",
       "    .dataframe tbody tr th:only-of-type {\n",
       "        vertical-align: middle;\n",
       "    }\n",
       "\n",
       "    .dataframe tbody tr th {\n",
       "        vertical-align: top;\n",
       "    }\n",
       "\n",
       "    .dataframe thead th {\n",
       "        text-align: right;\n",
       "    }\n",
       "</style>\n",
       "<table border=\"1\" class=\"dataframe\">\n",
       "  <thead>\n",
       "    <tr style=\"text-align: right;\">\n",
       "      <th>labels_kmeans</th>\n",
       "      <th>0</th>\n",
       "      <th>1</th>\n",
       "    </tr>\n",
       "  </thead>\n",
       "  <tbody>\n",
       "    <tr>\n",
       "      <th>SeriousDlqin2yrs</th>\n",
       "      <td>0.227768</td>\n",
       "      <td>0.857143</td>\n",
       "    </tr>\n",
       "    <tr>\n",
       "      <th>age</th>\n",
       "      <td>50.333214</td>\n",
       "      <td>37.346939</td>\n",
       "    </tr>\n",
       "    <tr>\n",
       "      <th>NumberOfTime30-59DaysPastDueNotWorse</th>\n",
       "      <td>0.387038</td>\n",
       "      <td>97.918367</td>\n",
       "    </tr>\n",
       "    <tr>\n",
       "      <th>DebtRatio</th>\n",
       "      <td>28.701623</td>\n",
       "      <td>0.005892</td>\n",
       "    </tr>\n",
       "    <tr>\n",
       "      <th>NumberOfTimes90DaysLate</th>\n",
       "      <td>0.185562</td>\n",
       "      <td>97.918367</td>\n",
       "    </tr>\n",
       "    <tr>\n",
       "      <th>NumberOfTime60-89DaysPastDueNotWorse</th>\n",
       "      <td>0.122433</td>\n",
       "      <td>97.918367</td>\n",
       "    </tr>\n",
       "    <tr>\n",
       "      <th>MonthlyIncome</th>\n",
       "      <td>6463.170420</td>\n",
       "      <td>2409.765306</td>\n",
       "    </tr>\n",
       "    <tr>\n",
       "      <th>NumberOfDependents</th>\n",
       "      <td>0.884340</td>\n",
       "      <td>0.612245</td>\n",
       "    </tr>\n",
       "    <tr>\n",
       "      <th>labels_dbscan</th>\n",
       "      <td>-0.000496</td>\n",
       "      <td>1.000000</td>\n",
       "    </tr>\n",
       "  </tbody>\n",
       "</table>\n",
       "</div>"
      ],
      "text/plain": [
       "labels_kmeans                                   0            1\n",
       "SeriousDlqin2yrs                         0.227768     0.857143\n",
       "age                                     50.333214    37.346939\n",
       "NumberOfTime30-59DaysPastDueNotWorse     0.387038    97.918367\n",
       "DebtRatio                               28.701623     0.005892\n",
       "NumberOfTimes90DaysLate                  0.185562    97.918367\n",
       "NumberOfTime60-89DaysPastDueNotWorse     0.122433    97.918367\n",
       "MonthlyIncome                         6463.170420  2409.765306\n",
       "NumberOfDependents                       0.884340     0.612245\n",
       "labels_dbscan                           -0.000496     1.000000"
      ]
     },
     "execution_count": 72,
     "metadata": {},
     "output_type": "execute_result"
    }
   ],
   "source": [
    "pd.concat([data_0.groupby('labels_kmeans').mean().T, data_1.groupby('labels_kmeans').mean().T], axis=1)"
   ]
  }
 ],
 "metadata": {
  "kernelspec": {
   "display_name": "Python 3",
   "language": "python",
   "name": "python3"
  },
  "language_info": {
   "codemirror_mode": {
    "name": "ipython",
    "version": 3
   },
   "file_extension": ".py",
   "mimetype": "text/x-python",
   "name": "python",
   "nbconvert_exporter": "python",
   "pygments_lexer": "ipython3",
   "version": "3.7.5"
  },
  "latex_envs": {
   "LaTeX_envs_menu_present": true,
   "autoclose": false,
   "autocomplete": true,
   "bibliofile": "biblio.bib",
   "cite_by": "apalike",
   "current_citInitial": 1,
   "eqLabelWithNumbers": true,
   "eqNumInitial": 1,
   "hotkeys": {
    "equation": "Ctrl-E",
    "itemize": "Ctrl-I"
   },
   "labels_anchors": false,
   "latex_user_defs": false,
   "report_style_numbering": false,
   "user_envs_cfg": false
  },
  "toc": {
   "base_numbering": 1,
   "nav_menu": {},
   "number_sections": true,
   "sideBar": true,
   "skip_h1_title": false,
   "title_cell": "Table of Contents",
   "title_sidebar": "Contents",
   "toc_cell": false,
   "toc_position": {},
   "toc_section_display": true,
   "toc_window_display": false
  },
  "varInspector": {
   "cols": {
    "lenName": 16,
    "lenType": 16,
    "lenVar": 40
   },
   "kernels_config": {
    "python": {
     "delete_cmd_postfix": "",
     "delete_cmd_prefix": "del ",
     "library": "var_list.py",
     "varRefreshCmd": "print(var_dic_list())"
    },
    "r": {
     "delete_cmd_postfix": ") ",
     "delete_cmd_prefix": "rm(",
     "library": "var_list.r",
     "varRefreshCmd": "cat(var_dic_list()) "
    }
   },
   "types_to_exclude": [
    "module",
    "function",
    "builtin_function_or_method",
    "instance",
    "_Feature"
   ],
   "window_display": false
  }
 },
 "nbformat": 4,
 "nbformat_minor": 2
}
