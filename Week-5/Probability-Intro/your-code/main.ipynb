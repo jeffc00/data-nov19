{
 "cells": [
  {
   "cell_type": "markdown",
   "metadata": {},
   "source": [
    "# Introduction To Probability\n",
    "## Challenge 1\n",
    "\n",
    "A and B are events of a probability space with $(\\omega, \\sigma, P)$ such that $P(A) = 0.3$, $P(B) = 0.6$ and $P(A \\cap B) = 0.1$\n",
    "\n",
    "Which of the following statements are false?\n",
    "* $P(A \\cup B) = 0.6$\n",
    "* $P(A \\cap B^{C}) = 0.2$\n",
    "* $P(A \\cap (B \\cup B^{C})) = 0.4$\n",
    "* $P(A^{C} \\cap B^{C}) = 0.3$\n",
    "* $P((A \\cap B)^{C}) = 0.9$"
   ]
  },
  {
   "cell_type": "markdown",
   "metadata": {},
   "source": [
    "* $P(A \\cup B) = P(A) + P(B) - P(A \\cap B) = 0.3 + 0.6 - 0.1 = 0.8$ <font color='red'>FALSE</font>\n",
    "* $P(A \\cap B^{C}) = P(A) - P(A \\cap B) = 0.3 - 0.1 = 0.2$ <font color='green'>TRUE</font>\n",
    "* $P(A \\cap (B \\cup B^{C})) = P(A) = 0.3$ <font color='red'>FALSE</font>\n",
    "* $P(A^{C} \\cap B^{C}) = P((A \\cup B)^{C}) = 1 - P(A \\cup B) = 1 - 0.8 = 0.2$ <font color='red'>FALSE</font>\n",
    "* $P((A \\cap B)^{C}) = 1 - P(A \\cap B) = 1 - 0.1 = 0.9$ <font color='green'>TRUE</font>"
   ]
  },
  {
   "cell_type": "markdown",
   "metadata": {},
   "source": [
    "## Challenge 2\n",
    "There is a box with 10 white balls, 12 red balls and 8 black balls. Calculate the probability of:\n",
    "* Taking a white ball out.\n",
    "* Taking a white ball out after taking a black ball out.\n",
    "* Taking a red ball out after taking a black and a red ball out.\n",
    "* Taking a red ball out after taking a black and a red ball out with reposition.\n",
    "\n",
    "**Hint**: Reposition means putting back the ball into the box after taking it out."
   ]
  },
  {
   "cell_type": "markdown",
   "metadata": {},
   "source": [
    "* $P(W) = \\frac{10}{30} = \\frac{1}{3}$\n",
    "* $P(W|B)P(B) = \\frac{10}{29}\\frac{8}{30} = \\frac{8}{87}$\n",
    "* $P(R|B \\cap R)P(B \\cap R) = P(R|B \\cap R)P(B|R)P(R) = \\frac{11}{28}\\frac{8}{29}\\frac{12}{30} = \\frac{44}{1015}$\n",
    "* $P(R|B)P(B)P(R) = \\frac{12}{29}\\frac{8}{30}\\frac{12}{30} = \\frac{96}{2175}$, assuming reposition only of the red ball"
   ]
  },
  {
   "cell_type": "markdown",
   "metadata": {},
   "source": [
    "## Challenge 3\n",
    "\n",
    "You are planning to go on a picnic today but the morning is cloudy. You hate rain so you don't know whether to go out or stay home! To help you make a decision, you gather the following data about rainy days:\n",
    "\n",
    "* 50% of all rainy days start off cloudy!\n",
    "* Cloudy mornings are common. About 40% of days start cloudy. \n",
    "* This month is usually dry so only 3 of 30 days (10%) tend to be rainy. \n",
    "\n",
    "What is the chance of rain during the day?"
   ]
  },
  {
   "cell_type": "markdown",
   "metadata": {},
   "source": [
    "* $P(C|R) = 0.5$\n",
    "* $P(C) = 0.4$\n",
    "* $P(R) = 0.1$\n",
    "* $P(R|C) = \\frac{P(R \\cap C)}{P(C)} = \\frac{P(C|R)P(R)}{P(C)} = \\frac{0.05}{0.4} = 0.125$"
   ]
  },
  {
   "cell_type": "markdown",
   "metadata": {},
   "source": [
    "## Challenge 4\n",
    "\n",
    "One thousand people were asked through a telephone survey whether they thought more street lighting is needed at night or not.\n",
    "\n",
    "Out of the 480 men that answered the survey, 324 said yes and 156 said no. On the other hand, out of the 520 women that answered, 351 said yes and 169 said no. \n",
    "\n",
    "We wonder if men and women have a different opinions about the street lighting matter. Is gender relevant or irrelevant to the question?\n",
    "\n",
    "Consider the following events:\n",
    "- The answer is yes, so the person that answered thinks that more street lighting is needed.\n",
    "- The person who answered is a man.\n",
    "\n",
    "We want to know if these events are independent, that is, if the fact of wanting more light depends on whether one is male or female. Are these events independent or not?\n",
    "\n",
    "**Hint**: To clearly compare the answers by gender, it is best to place the data in a table."
   ]
  },
  {
   "cell_type": "code",
   "execution_count": 1,
   "metadata": {},
   "outputs": [],
   "source": [
    "# your code here\n",
    "obs_YM = 324\n",
    "obs_NM = 156\n",
    "obs_YW = 351\n",
    "obs_NW = 169\n",
    "\n",
    "# assuming answer and gender are independent:\n",
    "exp_YM = 675/1000 * 480\n",
    "exp_NM = 325/1000 * 480\n",
    "exp_YW = 675/1000 * 520\n",
    "exp_NW = 325/1000 * 520"
   ]
  },
  {
   "cell_type": "code",
   "execution_count": 2,
   "metadata": {},
   "outputs": [
    {
     "name": "stdout",
     "output_type": "stream",
     "text": [
      "True\n",
      "True\n",
      "True\n",
      "True\n",
      "\n",
      "Yes, the events are independent!\n"
     ]
    }
   ],
   "source": [
    "print(obs_YM == exp_YM)\n",
    "print(obs_NM == exp_NM)\n",
    "print(obs_YW == exp_YW)\n",
    "print(obs_NW == exp_NW)\n",
    "\n",
    "print(\"\\nYes, the events are independent!\")"
   ]
  }
 ],
 "metadata": {
  "kernelspec": {
   "display_name": "Python 3",
   "language": "python",
   "name": "python3"
  },
  "language_info": {
   "codemirror_mode": {
    "name": "ipython",
    "version": 3
   },
   "file_extension": ".py",
   "mimetype": "text/x-python",
   "name": "python",
   "nbconvert_exporter": "python",
   "pygments_lexer": "ipython3",
   "version": "3.7.5"
  }
 },
 "nbformat": 4,
 "nbformat_minor": 2
}
