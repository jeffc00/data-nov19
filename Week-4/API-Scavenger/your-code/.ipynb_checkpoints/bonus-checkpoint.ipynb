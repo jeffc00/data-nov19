{
 "cells": [
  {
   "cell_type": "markdown",
   "metadata": {},
   "source": [
    "# Additional Challenge for the Nerds"
   ]
  },
  {
   "cell_type": "markdown",
   "metadata": {},
   "source": [
    "#### Create a new file called test.txt.\n",
    "\n",
    "* Create a new repository.\n",
    "* Call the API endpoint to create a new file in the new repository.\n",
    "\n",
    "Include the command you used in the terminal to call the API endpoint and create the file:"
   ]
  },
  {
   "cell_type": "code",
   "execution_count": 1,
   "metadata": {},
   "outputs": [],
   "source": [
    "# your command here\n",
    "import requests\n",
    "import json\n",
    "from github import Github"
   ]
  },
  {
   "cell_type": "code",
   "execution_count": 2,
   "metadata": {},
   "outputs": [],
   "source": [
    "g = Github(\"97ab4a6cd93108b82ae62cf158313fa1a6a6d03d\")"
   ]
  },
  {
   "cell_type": "code",
   "execution_count": 3,
   "metadata": {},
   "outputs": [
    {
     "name": "stdout",
     "output_type": "stream",
     "text": [
      "data-bcn-prework\n",
      "data-nov19\n",
      "football-players-analytics\n",
      "international-football-results\n",
      "ironhack-jogos\n",
      "lesson-notebooks\n",
      "test-repo\n"
     ]
    }
   ],
   "source": [
    "for repo in g.get_user().get_repos():\n",
    "    print(repo.name)"
   ]
  },
  {
   "cell_type": "code",
   "execution_count": 7,
   "metadata": {},
   "outputs": [
    {
     "data": {
      "text/plain": [
       "{'content': ContentFile(path=\"test.txt\"),\n",
       " 'commit': Commit(sha=\"7869d7ace68eda0694e2efe900213c7ed25b66ef\")}"
      ]
     },
     "execution_count": 7,
     "metadata": {},
     "output_type": "execute_result"
    }
   ],
   "source": [
    "message = \"upload new text file\"\n",
    "content = \"Hello World!\"\n",
    "repo.create_file('test.txt', message, content)"
   ]
  }
 ],
 "metadata": {
  "kernelspec": {
   "display_name": "Python 3",
   "language": "python",
   "name": "python3"
  },
  "language_info": {
   "codemirror_mode": {
    "name": "ipython",
    "version": 3
   },
   "file_extension": ".py",
   "mimetype": "text/x-python",
   "name": "python",
   "nbconvert_exporter": "python",
   "pygments_lexer": "ipython3",
   "version": "3.7.5"
  }
 },
 "nbformat": 4,
 "nbformat_minor": 2
}
